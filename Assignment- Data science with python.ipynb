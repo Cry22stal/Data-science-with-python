{
 "cells": [
  {
   "cell_type": "raw",
   "id": "c428c63f",
   "metadata": {},
   "source": [
    "                                               Author : Shubhankar Anuragi\n",
    "                                               College : SIRT\n",
    "                                               Branch : CSE\n",
    "                                               Year/SEM : 3rd/5th\n",
    "                                               Roll number: 0133CS201180"
   ]
  },
  {
   "cell_type": "code",
   "execution_count": 1,
   "id": "b9429237",
   "metadata": {},
   "outputs": [],
   "source": [
    "#importing np\n",
    "import numpy as np"
   ]
  },
  {
   "cell_type": "markdown",
   "id": "9e9ccc5b",
   "metadata": {},
   "source": [
    "###### Question 1 : Write a code to combine one dimension and two dimensional NUMPY array"
   ]
  },
  {
   "cell_type": "code",
   "execution_count": 2,
   "id": "f52e8264",
   "metadata": {},
   "outputs": [
    {
     "name": "stdout",
     "output_type": "stream",
     "text": [
      "1D Array=\n",
      " ['a' 'b' 'c' 'd'] \n",
      "\n",
      "2D Array=\n",
      " [[1 2 3]\n",
      " [4 5 6]\n",
      " [7 8 9]] \n",
      "\n",
      "1D array and 2D array combined= \n",
      " ['1' '2' '3' '4' '5' '6' '7' '8' '9' 'a' 'b' 'c' 'd']\n"
     ]
    }
   ],
   "source": [
    "#Initialising 1D array:\n",
    "list1=np.array([\"a\",\"b\",\"c\",\"d\"])\n",
    "print(\"1D Array=\\n\", list1, \"\\n\")\n",
    "\n",
    "#Initialising 2D array:\n",
    "list2=np.array([[1, 2, 3], [4, 5, 6], [7, 8, 9]])\n",
    "print(\"2D Array=\\n\", list2, \"\\n\")\n",
    "\n",
    "list3=np.append(list2, list1)\n",
    "print(\"1D array and 2D array combined= \\n\", list3)"
   ]
  },
  {
   "cell_type": "markdown",
   "id": "75c280a3",
   "metadata": {},
   "source": [
    "##### Question 2: Write a code to check whether a numpy array contains a specific row.\n",
    "\n",
    "\n",
    "\n",
    "###### I dont know how to do this one, still I figured out two 3 methods using if else and command arr.tolist()\n",
    "\n"
   ]
  },
  {
   "cell_type": "code",
   "execution_count": 14,
   "id": "e4ceabd5",
   "metadata": {},
   "outputs": [
    {
     "name": "stdout",
     "output_type": "stream",
     "text": [
      "[[ 1  2  3  4  5]\n",
      " [ 6  7  8  9 10]\n",
      " [11 12 13 14 15]\n",
      " [16 17 18 19 20]]\n",
      "True\n"
     ]
    }
   ],
   "source": [
    "#Method 1 :  If the requested list is available in the given array, it returns True and if not then False.\n",
    "\n",
    "import numpy as np\n",
    "arr = np.array([[1, 2, 3, 4, 5],\n",
    "                [6, 7, 8, 9, 10],\n",
    "                [11, 12, 13, 14, 15],\n",
    "                [16, 17, 18, 19, 20]])\n",
    "\n",
    "# view array\n",
    "print(arr)\n",
    "  \n",
    "# check for some lists\n",
    "print([1, 2, 3, 4, 5] in arr.tolist())            #using command arr.tolist()"
   ]
  },
  {
   "cell_type": "code",
   "execution_count": 3,
   "id": "9d18d4c6",
   "metadata": {},
   "outputs": [
    {
     "name": "stdout",
     "output_type": "stream",
     "text": [
      "[[1 2]\n",
      " [3 4]\n",
      " [5 6]]\n",
      "2\n",
      "Yes 2 is present in the given array\n"
     ]
    }
   ],
   "source": [
    "#Method 2 :  how to find a specific 'element' of given array\n",
    "#if the element is found, it returns True else it returns False\n",
    "\n",
    "\n",
    "arr1=np.array([[1,2], [3,4], [5,6]])\n",
    "print(arr1)\n",
    "\n",
    "x = int(input())\n",
    "row=x\n",
    "\n",
    "if row in arr1:\n",
    "    print(\"Yes\",x,\"is present in the given array\")\n",
    "else:\n",
    "    print(\"No\",x,\"is not present in the given array\")"
   ]
  },
  {
   "cell_type": "code",
   "execution_count": 4,
   "id": "d3edfb2b",
   "metadata": {},
   "outputs": [
    {
     "name": "stdout",
     "output_type": "stream",
     "text": [
      "[[ 1  2]\n",
      " [ 3  4]\n",
      " [ 5  6]\n",
      " [ 7  8]\n",
      " [ 9 10]]\n",
      "2\n",
      "Yes, Row number 2 is present in the given array\n"
     ]
    }
   ],
   "source": [
    "#Method 3 : \n",
    "# We will use an if else statement here also, but here we search for directly the row number.\n",
    "\n",
    "#Applying this method on a 2D array\n",
    "\n",
    "arr2=np.array([[1,2], [3,4], [5,6], [7,8], [9,10]])\n",
    "print(arr2)\n",
    "\n",
    "dim=arr2.ndim        #2\n",
    "size=arr2.size       #10\n",
    "\n",
    "x=int(input())  #taking input\n",
    "\n",
    "numofrows=size/dim\n",
    "\n",
    "if (x<numofrows):\n",
    "    print(\"Yes, Row number\", x, \"is present in the given array\")\n",
    "else:\n",
    "    print(\"No, Row number\", x, \"is not present in the given array\")"
   ]
  },
  {
   "cell_type": "code",
   "execution_count": 5,
   "id": "cd6aa047",
   "metadata": {},
   "outputs": [
    {
     "name": "stdout",
     "output_type": "stream",
     "text": [
      "[[[ 1  2  3]\n",
      "  [ 4  5  6]]\n",
      "\n",
      " [[ 7  8  9]\n",
      "  [10 11 12]]]\n",
      "2\n",
      "Yes, Row number 2 is present in the given array\n"
     ]
    }
   ],
   "source": [
    "#Applying the same to a 3D Array:\n",
    "\n",
    "ar2=np.array([[[1,2,3], [4,5,6]], [[7,8,9], [10,11,12]]])\n",
    "print(ar2)\n",
    "\n",
    "dim=ar2.ndim        #3\n",
    "size=ar2.size       #12\n",
    "\n",
    "x=int(input())  #taking input\n",
    "\n",
    "numofrows=size/dim\n",
    "\n",
    "if (x<numofrows):\n",
    "    print(\"Yes, Row number\", x, \"is present in the given array\")\n",
    "else:\n",
    "    print(\"No, Row number\", x, \"is not present in the given array\")"
   ]
  },
  {
   "cell_type": "markdown",
   "id": "f881da78",
   "metadata": {},
   "source": [
    "###### Question 3: Write a pandas code to create and display a DataFrame from a specified dictionary data which has the index labels"
   ]
  },
  {
   "cell_type": "code",
   "execution_count": 6,
   "id": "c8ba4cd5",
   "metadata": {},
   "outputs": [],
   "source": [
    " #importing pandas library\n",
    "import pandas as pd"
   ]
  },
  {
   "cell_type": "code",
   "execution_count": 7,
   "id": "e7a4daa2",
   "metadata": {},
   "outputs": [
    {
     "name": "stdout",
     "output_type": "stream",
     "text": [
      "Rule of life:\n",
      "\n",
      "          Time  Money  Energy\n",
      "Toddler    100      0     100\n",
      "Teenager     0    100     100\n",
      "Elderly    100    100       0 \n",
      " \n",
      " \n",
      "\n",
      "Finding the data of row 'Toddler': \n",
      "\n",
      "Time      100\n",
      "Money       0\n",
      "Energy    100\n",
      "Name: Toddler, dtype: int64\n"
     ]
    }
   ],
   "source": [
    "#creating a dictionary\n",
    "dic={'Time':[100, 0, 100],'Money':[0,100,100],'Energy':[100,100,0]}\n",
    "     \n",
    "\n",
    "#Creating DataFrame and putting index labels\n",
    "datf=pd.DataFrame(dic, index=[\"Toddler\", \"Teenager\", \"Elderly\"])\n",
    "print(\"Rule of life:\\n\")\n",
    "print(datf, \"\\n \\n \\n\")\n",
    "\n",
    "#Finding a specific row using index label:\n",
    "print(\"Finding the data of row 'Toddler': \\n\")\n",
    "print(datf.loc[\"Toddler\"])"
   ]
  },
  {
   "cell_type": "markdown",
   "id": "65ad990f",
   "metadata": {},
   "source": [
    "###### Question 4: Write a pandas code to create DataFrame from dictionary of narray/lists"
   ]
  },
  {
   "cell_type": "code",
   "execution_count": 8,
   "id": "2d51379d",
   "metadata": {},
   "outputs": [
    {
     "name": "stdout",
     "output_type": "stream",
     "text": [
      "     Name  Age Net Worth\n",
      "0  Steven   44       10M\n",
      "1    Mark   44      271B\n",
      "2    Jake   44      126M\n"
     ]
    }
   ],
   "source": [
    "#Creating a dictionary of lists:\n",
    "MoonKnightDictionary={\n",
    "       'Name':['Steven', 'Mark', 'Jake'], \n",
    "       'Age':[44,44,44], \n",
    "       'Net Worth':['10M','271B','126M']\n",
    "      }\n",
    "\n",
    "MoonKnightDataFrame=pd.DataFrame(MoonKnightDictionary)\n",
    "print(MoonKnightDataFrame)"
   ]
  },
  {
   "cell_type": "markdown",
   "id": "d4de7943",
   "metadata": {},
   "source": [
    "###### Question 5: Write a pandas code to create pandas DataFrame using list of lists"
   ]
  },
  {
   "cell_type": "code",
   "execution_count": 16,
   "id": "5fc1b4cc",
   "metadata": {},
   "outputs": [
    {
     "name": "stdout",
     "output_type": "stream",
     "text": [
      "   0  1  2      3\n",
      "0  a  b  c   True\n",
      "1  d  e  f   True\n",
      "2  g  h  i   True\n",
      "3  x  p  z  False\n"
     ]
    }
   ],
   "source": [
    "#Creating a list of lists:\n",
    "\n",
    "List=[ \n",
    "[\"a\",\"b\",\"c\", True],\n",
    "[\"d\",\"e\",\"f\", True],\n",
    "[\"g\",\"h\",\"i\", True],\n",
    "[\"x\",\"p\",\"z\", False]]\n",
    "\n",
    "#initiating DataFrame\n",
    "\n",
    "L1_df=pd.DataFrame(List)\n",
    "print(L1_df)"
   ]
  },
  {
   "cell_type": "code",
   "execution_count": null,
   "id": "4b39c4ce",
   "metadata": {},
   "outputs": [],
   "source": []
  }
 ],
 "metadata": {
  "kernelspec": {
   "display_name": "Python 3 (ipykernel)",
   "language": "python",
   "name": "python3"
  },
  "language_info": {
   "codemirror_mode": {
    "name": "ipython",
    "version": 3
   },
   "file_extension": ".py",
   "mimetype": "text/x-python",
   "name": "python",
   "nbconvert_exporter": "python",
   "pygments_lexer": "ipython3",
   "version": "3.9.12"
  }
 },
 "nbformat": 4,
 "nbformat_minor": 5
}
